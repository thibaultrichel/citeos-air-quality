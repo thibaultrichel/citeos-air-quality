{
 "cells": [
  {
   "cell_type": "code",
   "execution_count": 1,
   "id": "f5b11f3f-bcd5-4e37-bc7b-60218b4f9899",
   "metadata": {},
   "outputs": [],
   "source": [
    "from IPython.core.interactiveshell import InteractiveShell\n",
    "InteractiveShell.ast_node_interactivity = \"all\""
   ]
  },
  {
   "cell_type": "code",
   "execution_count": null,
   "id": "6fcd220a-9a70-45ab-b25d-99be0bb4a572",
   "metadata": {},
   "outputs": [],
   "source": [
    "import numpy as np\n",
    "import pandas as pd\n",
    "import tensorflow as tf\n",
    "import matplotlib.pyplot as plt\n",
    "import seaborn as sns"
   ]
  },
  {
   "cell_type": "code",
   "execution_count": null,
   "id": "ca0213ca-66ce-434b-8173-98c8e41e0e37",
   "metadata": {},
   "outputs": [],
   "source": [
    "from sklearn.model_selection import train_test_split, GridSearchCV\n",
    "from sklearn.metrics import accuracy_score, f1_score, confusion_matrix\n",
    "from sklearn.ensemble import RandomForestClassifier"
   ]
  },
  {
   "cell_type": "code",
   "execution_count": null,
   "id": "0d0c8fd8-2bdd-418a-b1e2-a69aadae683c",
   "metadata": {},
   "outputs": [],
   "source": [
    "weather_event_cat = {\n",
    "    'inconnu': 1, 'pluie faible': 2, 'ciel clair': 3, 'brouillard faible': 4, 'pluie': 5, 'brouillard': 6,\n",
    "    'neige faible': 7, 'pluie forte': 8, 'neige': 9, 'brouillard fort': 10\n",
    "}\n",
    "\n",
    "atmo_cat = {'bon': 1, 'moyen': 2, 'dégradé': 3, 'mauvais': 4, \"très mauvais\": 5, \"extrêmement mauvais\": 6}\n",
    "\n",
    "wind_dir_cat = {\n",
    "    'SO': 1, 'O': 2, 'SSO': 3, 'N': 4, 'S': 5, 'NE': 6, 'OSO': 7, 'NNO': 8, 'ONO': 9, 'ENE': 10, 'E': 11,\n",
    "    'NNE': 12, 'NO': 13, 'SSE': 14, 'SE': 15, 'ESE': 16\n",
    "}"
   ]
  },
  {
   "cell_type": "code",
   "execution_count": 100,
   "id": "c90808c2-c696-4984-846f-4668a9b026f6",
   "metadata": {},
   "outputs": [],
   "source": [
    "def format_target(df_, step=3):\n",
    "    atmo_values = df_.atmo_cat.tolist()\n",
    "    temp = atmo_values\n",
    "    for i in range(step):\n",
    "        print(i)\n",
    "        temp.insert(0, 0)\n",
    "        temp.pop()\n",
    "        df_[f\"atmo_cat_h-{step-i-1}\"] = temp\n",
    "    df_.rename(columns={\"atmo_cat_h-0\": \"atmo_cat_target\"}, inplace=True)\n",
    "    return df_"
   ]
  },
  {
   "cell_type": "code",
   "execution_count": 128,
   "id": "c6b685ab-2cde-4999-b3df-35787f5a295d",
   "metadata": {},
   "outputs": [
    {
     "name": "stdout",
     "output_type": "stream",
     "text": [
      "0\n"
     ]
    },
    {
     "data": {
      "text/html": [
       "<div>\n",
       "<style scoped>\n",
       "    .dataframe tbody tr th:only-of-type {\n",
       "        vertical-align: middle;\n",
       "    }\n",
       "\n",
       "    .dataframe tbody tr th {\n",
       "        vertical-align: top;\n",
       "    }\n",
       "\n",
       "    .dataframe thead th {\n",
       "        text-align: right;\n",
       "    }\n",
       "</style>\n",
       "<table border=\"1\" class=\"dataframe\">\n",
       "  <thead>\n",
       "    <tr style=\"text-align: right;\">\n",
       "      <th></th>\n",
       "      <th>date</th>\n",
       "      <th>PM10</th>\n",
       "      <th>PM25</th>\n",
       "      <th>NO2</th>\n",
       "      <th>SO2</th>\n",
       "      <th>NO</th>\n",
       "      <th>NOX</th>\n",
       "      <th>O3</th>\n",
       "      <th>temp</th>\n",
       "      <th>wind_speed</th>\n",
       "      <th>hum</th>\n",
       "      <th>press</th>\n",
       "      <th>wind_dir_cat</th>\n",
       "      <th>weather_event_cat</th>\n",
       "      <th>atmo_cat_target</th>\n",
       "    </tr>\n",
       "  </thead>\n",
       "  <tbody>\n",
       "    <tr>\n",
       "      <th>0</th>\n",
       "      <td>2019-01-01 02:00:00</td>\n",
       "      <td>5.4</td>\n",
       "      <td>10.3</td>\n",
       "      <td>19.7</td>\n",
       "      <td>2.3</td>\n",
       "      <td>1.4</td>\n",
       "      <td>21.9</td>\n",
       "      <td>39.8</td>\n",
       "      <td>7.9</td>\n",
       "      <td>3.7</td>\n",
       "      <td>90.0</td>\n",
       "      <td>1036.2</td>\n",
       "      <td>8</td>\n",
       "      <td>1</td>\n",
       "      <td>1</td>\n",
       "    </tr>\n",
       "    <tr>\n",
       "      <th>1</th>\n",
       "      <td>2019-01-01 03:00:00</td>\n",
       "      <td>8.6</td>\n",
       "      <td>12.9</td>\n",
       "      <td>24.3</td>\n",
       "      <td>2.1</td>\n",
       "      <td>0.7</td>\n",
       "      <td>25.4</td>\n",
       "      <td>32.8</td>\n",
       "      <td>7.7</td>\n",
       "      <td>3.7</td>\n",
       "      <td>88.0</td>\n",
       "      <td>1035.8</td>\n",
       "      <td>2</td>\n",
       "      <td>1</td>\n",
       "      <td>2</td>\n",
       "    </tr>\n",
       "    <tr>\n",
       "      <th>2</th>\n",
       "      <td>2019-01-01 04:00:00</td>\n",
       "      <td>10.2</td>\n",
       "      <td>12.5</td>\n",
       "      <td>25.4</td>\n",
       "      <td>2.6</td>\n",
       "      <td>1.0</td>\n",
       "      <td>27.0</td>\n",
       "      <td>36.6</td>\n",
       "      <td>7.9</td>\n",
       "      <td>3.7</td>\n",
       "      <td>82.0</td>\n",
       "      <td>1035.4</td>\n",
       "      <td>9</td>\n",
       "      <td>1</td>\n",
       "      <td>2</td>\n",
       "    </tr>\n",
       "    <tr>\n",
       "      <th>3</th>\n",
       "      <td>2019-01-01 05:00:00</td>\n",
       "      <td>11.1</td>\n",
       "      <td>6.9</td>\n",
       "      <td>18.2</td>\n",
       "      <td>3.1</td>\n",
       "      <td>0.6</td>\n",
       "      <td>19.2</td>\n",
       "      <td>48.9</td>\n",
       "      <td>8.0</td>\n",
       "      <td>3.7</td>\n",
       "      <td>81.0</td>\n",
       "      <td>1034.8</td>\n",
       "      <td>2</td>\n",
       "      <td>1</td>\n",
       "      <td>2</td>\n",
       "    </tr>\n",
       "    <tr>\n",
       "      <th>4</th>\n",
       "      <td>2019-01-01 06:00:00</td>\n",
       "      <td>10.7</td>\n",
       "      <td>6.1</td>\n",
       "      <td>26.3</td>\n",
       "      <td>3.2</td>\n",
       "      <td>1.6</td>\n",
       "      <td>28.8</td>\n",
       "      <td>34.8</td>\n",
       "      <td>8.3</td>\n",
       "      <td>3.7</td>\n",
       "      <td>80.0</td>\n",
       "      <td>1034.9</td>\n",
       "      <td>9</td>\n",
       "      <td>1</td>\n",
       "      <td>1</td>\n",
       "    </tr>\n",
       "    <tr>\n",
       "      <th>...</th>\n",
       "      <td>...</td>\n",
       "      <td>...</td>\n",
       "      <td>...</td>\n",
       "      <td>...</td>\n",
       "      <td>...</td>\n",
       "      <td>...</td>\n",
       "      <td>...</td>\n",
       "      <td>...</td>\n",
       "      <td>...</td>\n",
       "      <td>...</td>\n",
       "      <td>...</td>\n",
       "      <td>...</td>\n",
       "      <td>...</td>\n",
       "      <td>...</td>\n",
       "      <td>...</td>\n",
       "    </tr>\n",
       "    <tr>\n",
       "      <th>25605</th>\n",
       "      <td>2021-12-30 17:00:00</td>\n",
       "      <td>11.4</td>\n",
       "      <td>8.1</td>\n",
       "      <td>23.9</td>\n",
       "      <td>0.9</td>\n",
       "      <td>1.5</td>\n",
       "      <td>26.2</td>\n",
       "      <td>25.2</td>\n",
       "      <td>13.9</td>\n",
       "      <td>14.8</td>\n",
       "      <td>87.0</td>\n",
       "      <td>1022.3</td>\n",
       "      <td>1</td>\n",
       "      <td>3</td>\n",
       "      <td>1</td>\n",
       "    </tr>\n",
       "    <tr>\n",
       "      <th>25606</th>\n",
       "      <td>2021-12-30 18:00:00</td>\n",
       "      <td>10.8</td>\n",
       "      <td>7.5</td>\n",
       "      <td>27.7</td>\n",
       "      <td>0.6</td>\n",
       "      <td>2.3</td>\n",
       "      <td>31.2</td>\n",
       "      <td>20.9</td>\n",
       "      <td>14.0</td>\n",
       "      <td>14.8</td>\n",
       "      <td>87.0</td>\n",
       "      <td>1022.7</td>\n",
       "      <td>3</td>\n",
       "      <td>3</td>\n",
       "      <td>1</td>\n",
       "    </tr>\n",
       "    <tr>\n",
       "      <th>25607</th>\n",
       "      <td>2021-12-30 19:00:00</td>\n",
       "      <td>11.9</td>\n",
       "      <td>8.4</td>\n",
       "      <td>25.8</td>\n",
       "      <td>0.6</td>\n",
       "      <td>1.1</td>\n",
       "      <td>27.6</td>\n",
       "      <td>21.2</td>\n",
       "      <td>13.4</td>\n",
       "      <td>13.0</td>\n",
       "      <td>88.0</td>\n",
       "      <td>1022.8</td>\n",
       "      <td>3</td>\n",
       "      <td>3</td>\n",
       "      <td>1</td>\n",
       "    </tr>\n",
       "    <tr>\n",
       "      <th>25608</th>\n",
       "      <td>2021-12-30 20:00:00</td>\n",
       "      <td>11.8</td>\n",
       "      <td>8.8</td>\n",
       "      <td>31.1</td>\n",
       "      <td>0.6</td>\n",
       "      <td>1.1</td>\n",
       "      <td>32.9</td>\n",
       "      <td>14.2</td>\n",
       "      <td>12.5</td>\n",
       "      <td>11.1</td>\n",
       "      <td>91.0</td>\n",
       "      <td>1022.9</td>\n",
       "      <td>3</td>\n",
       "      <td>3</td>\n",
       "      <td>1</td>\n",
       "    </tr>\n",
       "    <tr>\n",
       "      <th>25609</th>\n",
       "      <td>2021-12-30 21:00:00</td>\n",
       "      <td>14.1</td>\n",
       "      <td>10.5</td>\n",
       "      <td>35.9</td>\n",
       "      <td>0.8</td>\n",
       "      <td>5.8</td>\n",
       "      <td>44.8</td>\n",
       "      <td>6.2</td>\n",
       "      <td>11.9</td>\n",
       "      <td>11.1</td>\n",
       "      <td>93.0</td>\n",
       "      <td>1023.0</td>\n",
       "      <td>3</td>\n",
       "      <td>3</td>\n",
       "      <td>1</td>\n",
       "    </tr>\n",
       "  </tbody>\n",
       "</table>\n",
       "<p>25610 rows × 15 columns</p>\n",
       "</div>"
      ],
      "text/plain": [
       "                      date  PM10  PM25   NO2  SO2   NO   NOX    O3  temp  \\\n",
       "0      2019-01-01 02:00:00   5.4  10.3  19.7  2.3  1.4  21.9  39.8   7.9   \n",
       "1      2019-01-01 03:00:00   8.6  12.9  24.3  2.1  0.7  25.4  32.8   7.7   \n",
       "2      2019-01-01 04:00:00  10.2  12.5  25.4  2.6  1.0  27.0  36.6   7.9   \n",
       "3      2019-01-01 05:00:00  11.1   6.9  18.2  3.1  0.6  19.2  48.9   8.0   \n",
       "4      2019-01-01 06:00:00  10.7   6.1  26.3  3.2  1.6  28.8  34.8   8.3   \n",
       "...                    ...   ...   ...   ...  ...  ...   ...   ...   ...   \n",
       "25605  2021-12-30 17:00:00  11.4   8.1  23.9  0.9  1.5  26.2  25.2  13.9   \n",
       "25606  2021-12-30 18:00:00  10.8   7.5  27.7  0.6  2.3  31.2  20.9  14.0   \n",
       "25607  2021-12-30 19:00:00  11.9   8.4  25.8  0.6  1.1  27.6  21.2  13.4   \n",
       "25608  2021-12-30 20:00:00  11.8   8.8  31.1  0.6  1.1  32.9  14.2  12.5   \n",
       "25609  2021-12-30 21:00:00  14.1  10.5  35.9  0.8  5.8  44.8   6.2  11.9   \n",
       "\n",
       "       wind_speed   hum   press  wind_dir_cat  weather_event_cat  \\\n",
       "0             3.7  90.0  1036.2             8                  1   \n",
       "1             3.7  88.0  1035.8             2                  1   \n",
       "2             3.7  82.0  1035.4             9                  1   \n",
       "3             3.7  81.0  1034.8             2                  1   \n",
       "4             3.7  80.0  1034.9             9                  1   \n",
       "...           ...   ...     ...           ...                ...   \n",
       "25605        14.8  87.0  1022.3             1                  3   \n",
       "25606        14.8  87.0  1022.7             3                  3   \n",
       "25607        13.0  88.0  1022.8             3                  3   \n",
       "25608        11.1  91.0  1022.9             3                  3   \n",
       "25609        11.1  93.0  1023.0             3                  3   \n",
       "\n",
       "       atmo_cat_target  \n",
       "0                    1  \n",
       "1                    2  \n",
       "2                    2  \n",
       "3                    2  \n",
       "4                    1  \n",
       "...                ...  \n",
       "25605                1  \n",
       "25606                1  \n",
       "25607                1  \n",
       "25608                1  \n",
       "25609                1  \n",
       "\n",
       "[25610 rows x 15 columns]"
      ]
     },
     "execution_count": 128,
     "metadata": {},
     "output_type": "execute_result"
    }
   ],
   "source": [
    "df = pd.read_csv(\"./data/final/merged-final.csv\", sep=';').dropna().drop(\"day\", axis=1)\n",
    "df[\"wind_dir_cat\"] = df.wind_dir.apply(lambda x: wind_dir_cat[x])\n",
    "df[\"weather_event_cat\"] = df.weather_event.apply(lambda x: weather_event_cat[x])\n",
    "df[\"atmo_cat\"] = df.ATMO.apply(lambda x: atmo_cat[x])\n",
    "df = df.drop([\"ATMO\", \"weather_event\", \"wind_dir\"], axis=1)\n",
    "df = format_target(df, 1).drop(0).reset_index(drop=True).drop(\"atmo_cat\", axis=1)\n",
    "df"
   ]
  },
  {
   "cell_type": "markdown",
   "id": "0e1cef27-d2c8-4cd2-9851-191b10f203ae",
   "metadata": {
    "tags": []
   },
   "source": [
    "# Training"
   ]
  },
  {
   "cell_type": "code",
   "execution_count": 129,
   "id": "3cc7ef8f-c31e-45cd-a458-43ad9aa985a5",
   "metadata": {
    "tags": []
   },
   "outputs": [],
   "source": [
    "def plot_feature_importance(importance,names,model_type):\n",
    "    #Create arrays from feature importance and feature names\n",
    "    feature_importance = np.array(importance)\n",
    "    feature_names = np.array(names)\n",
    "\n",
    "    #Create a DataFrame using a Dictionary\n",
    "    data={'feature_names':feature_names,'feature_importance':feature_importance}\n",
    "    fi_df = pd.DataFrame(data)\n",
    "\n",
    "    #Sort the DataFrame in order decreasing feature importance\n",
    "    fi_df.sort_values(by=['feature_importance'], ascending=False,inplace=True)\n",
    "\n",
    "    #Define size of bar plot\n",
    "    plt.figure(figsize=(10,8))\n",
    "    #Plot Searborn bar chart\n",
    "    sns.barplot(x=fi_df['feature_importance'], y=fi_df['feature_names'])\n",
    "    #Add chart labels\n",
    "    plt.title(model_type + ' feature importance')\n",
    "    plt.xlabel('FEATURE IMPORTANCE')\n",
    "    plt.ylabel('FEATURE NAMES')"
   ]
  },
  {
   "cell_type": "code",
   "execution_count": 130,
   "id": "c7da6637-64f8-40e8-a713-4796cd3f7b14",
   "metadata": {},
   "outputs": [],
   "source": [
    "y = df[\"atmo_cat_target\"]\n",
    "X = df.drop([\"date\", \"atmo_cat_target\"], axis=1)\n",
    "\n",
    "X_train, X_test, y_train, y_test = train_test_split(X, y, test_size=0.2, random_state=42)"
   ]
  },
  {
   "cell_type": "code",
   "execution_count": 119,
   "id": "b7367ccc-0a8d-466f-bffd-03ba7c00744a",
   "metadata": {},
   "outputs": [],
   "source": [
    "param_grid = {\n",
    "    \"n_estimators\": [100, 200, 300, 400],\n",
    "    \"max_depth\": [6, 12, 24],\n",
    "    \"criterion\": [\"entropy\", \"gini\"],\n",
    "    \"min_samples_split\": [2, 4, 6, 8],\n",
    "    \"min_samples_leaf\": [1, 2, 4, 6]\n",
    "}\n",
    " \n",
    "rf = RandomForestClassifier()\n",
    "\n",
    "gcv = GridSearchCV(\n",
    "    estimator=rf,\n",
    "    param_grid=param_grid\n",
    ")"
   ]
  },
  {
   "cell_type": "code",
   "execution_count": 120,
   "id": "5d14e265-fa37-43c8-ae60-46a3eb2fdc3c",
   "metadata": {},
   "outputs": [
    {
     "name": "stderr",
     "output_type": "stream",
     "text": [
      "/Users/thibaultrichel/Desktop/JupyterLab/jptlab_env/lib/python3.8/site-packages/sklearn/model_selection/_split.py:676: UserWarning: The least populated class in y has only 4 members, which is less than n_splits=5.\n",
      "  warnings.warn(\n"
     ]
    },
    {
     "data": {
      "text/plain": [
       "GridSearchCV(estimator=RandomForestClassifier(),\n",
       "             param_grid={'criterion': ['entropy', 'gini'],\n",
       "                         'max_depth': [6, 12, 24],\n",
       "                         'min_samples_leaf': [1, 2, 4, 6],\n",
       "                         'min_samples_split': [2, 4, 6, 8],\n",
       "                         'n_estimators': [100, 200, 300, 400]})"
      ]
     },
     "execution_count": 120,
     "metadata": {},
     "output_type": "execute_result"
    }
   ],
   "source": [
    "gcv.fit(X_train, y_train)"
   ]
  },
  {
   "cell_type": "code",
   "execution_count": 125,
   "id": "7fc517c1-9349-4f3b-8152-64ad585bc8b0",
   "metadata": {},
   "outputs": [],
   "source": [
    "best_params = gcv.best_params_\n",
    "best_params"
   ]
  },
  {
   "cell_type": "code",
   "execution_count": 131,
   "id": "0ab5b9e8-a833-4ba4-b035-abd6008d95db",
   "metadata": {},
   "outputs": [],
   "source": [
    "# criterion='entropy', max_depth=24, min_samples_split=8, n_estimators=200\n",
    "custom_params = {\"criterion\": \"entropy\", \"max_depth\":24, \"min_samples_split\": 8, \"n_estimators\": 200}\n",
    "rf = RandomForestClassifier(**custom_params)"
   ]
  },
  {
   "cell_type": "code",
   "execution_count": 132,
   "id": "e4071096-fd82-4fdf-8892-b7fcdb208b2b",
   "metadata": {},
   "outputs": [
    {
     "data": {
      "text/plain": [
       "RandomForestClassifier(criterion='entropy', max_depth=24, min_samples_split=8,\n",
       "                       n_estimators=200)"
      ]
     },
     "execution_count": 132,
     "metadata": {},
     "output_type": "execute_result"
    }
   ],
   "source": [
    "rf.fit(X_train, y_train)"
   ]
  },
  {
   "cell_type": "code",
   "execution_count": 133,
   "id": "4c8a996c-fec6-4f97-945f-e4d3ef579d46",
   "metadata": {},
   "outputs": [],
   "source": [
    "y_pred = rf.predict(X_test)"
   ]
  },
  {
   "cell_type": "code",
   "execution_count": 134,
   "id": "4da8f175-9535-432e-8a43-1fd68289bd8f",
   "metadata": {},
   "outputs": [
    {
     "name": "stdout",
     "output_type": "stream",
     "text": [
      "acc = 0.7727450214759859\n",
      "f1  = 0.576187140702534\n"
     ]
    }
   ],
   "source": [
    "acc = accuracy_score(y_pred, y_test)\n",
    "f1 = f1_score(y_pred, y_test, average='macro')\n",
    "\n",
    "print(f\"acc = {acc}\\nf1  = {f1}\")"
   ]
  },
  {
   "cell_type": "code",
   "execution_count": 135,
   "id": "0f227375-18ec-4905-8226-11da6bda6205",
   "metadata": {
    "collapsed": true,
    "jupyter": {
     "outputs_hidden": true,
     "source_hidden": true
    },
    "tags": []
   },
   "outputs": [
    {
     "data": {
      "text/plain": [
       "<AxesSubplot:>"
      ]
     },
     "execution_count": 135,
     "metadata": {},
     "output_type": "execute_result"
    },
    {
     "data": {
      "image/png": "[encoded data removed]",
      "text/plain": [
       "<Figure size 864x576 with 2 Axes>"
      ]
     },
     "metadata": {
      "needs_background": "light"
     },
     "output_type": "display_data"
    }
   ],
   "source": [
    "f = plt.figure(figsize=(12, 8))\n",
    "conf_mat = confusion_matrix(y_pred, y_test)\n",
    "sns.heatmap(conf_mat, cmap=\"Reds\", annot=True, fmt=\"g\")\n",
    "plt.show()"
   ]
  },
  {
   "cell_type": "code",
   "execution_count": 136,
   "id": "4b8c0936-b571-45dc-81da-95825f8e380e",
   "metadata": {},
   "outputs": [
    {
     "data": {
      "image/png": "[encoded data removed]",
      "text/plain": [
       "<Figure size 720x576 with 1 Axes>"
      ]
     },
     "metadata": {
      "needs_background": "light"
     },
     "output_type": "display_data"
    }
   ],
   "source": [
    "plot_feature_importance(rf.feature_importances_, X_train.columns, \"Random Forest\")"
   ]
  },
  {
   "cell_type": "code",
   "execution_count": null,
   "id": "4d8872ec-0d88-4fc9-9654-f75caab7614c",
   "metadata": {},
   "outputs": [],
   "source": []
  }
 ],
 "metadata": {
  "kernelspec": {
   "display_name": "jptlab_env",
   "language": "python",
   "name": "jptlab_env"
  },
  "language_info": {
   "codemirror_mode": {
    "name": "ipython",
    "version": 3
   },
   "file_extension": ".py",
   "mimetype": "text/x-python",
   "name": "python",
   "nbconvert_exporter": "python",
   "pygments_lexer": "ipython3",
   "version": "3.8.5"
  }
 },
 "nbformat": 4,
 "nbformat_minor": 5
}
