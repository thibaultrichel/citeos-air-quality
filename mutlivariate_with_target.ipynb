{
 "cells": [
  {
   "cell_type": "code",
   "execution_count": 1,
   "metadata": {
    "id": "APYubM9shaee"
   },
   "outputs": [
    {
     "name": "stderr",
     "output_type": "stream",
     "text": [
      "2022-03-14 17:06:52.794213: W tensorflow/stream_executor/platform/default/dso_loader.cc:64] Could not load dynamic library 'libcudart.so.11.0'; dlerror: libcudart.so.11.0: cannot open shared object file: No such file or directory\n",
      "2022-03-14 17:06:52.794226: I tensorflow/stream_executor/cuda/cudart_stub.cc:29] Ignore above cudart dlerror if you do not have a GPU set up on your machine.\n"
     ]
    }
   ],
   "source": [
    "import numpy as np\n",
    "import pandas as pd\n",
    "import tensorflow as tf\n",
    "import matplotlib.pyplot as plt"
   ]
  },
  {
   "cell_type": "code",
   "execution_count": 2,
   "metadata": {
    "id": "udo4yz14hqiO"
   },
   "outputs": [],
   "source": [
    "weather_event_cat = {\n",
    "    'inconnu': 1, 'pluie faible': 2, 'ciel clair': 3, 'brouillard faible': 4, 'pluie': 5, 'brouillard': 6,\n",
    "    'neige faible': 7, 'pluie forte': 8, 'neige': 9, 'brouillard fort': 10\n",
    "}\n",
    "\n",
    "atmo_cat = {'bon': 1, 'moyen': 2, 'dégradé': 3, 'mauvais': 4, \"très mauvais\": 5, \"extrêmement mauvais\": 6}\n",
    "\n",
    "wind_dir_cat = {\n",
    "    'SO': 1, 'O': 2, 'SSO': 3, 'N': 4, 'S': 5, 'NE': 6, 'OSO': 7, 'NNO': 8, 'ONO': 9, 'ENE': 10, 'E': 11,\n",
    "    'NNE': 12, 'NO': 13, 'SSE': 14, 'SE': 15, 'ESE': 16\n",
    "}"
   ]
  },
  {
   "cell_type": "code",
   "execution_count": 3,
   "metadata": {
    "colab": {
     "base_uri": "https://localhost:8080/",
     "height": 835
    },
    "id": "rH9nUdHKhkI8",
    "outputId": "03fb304c-42bd-4bc3-89f4-65b827fcc27b"
   },
   "outputs": [
    {
     "data": {
      "text/html": [
       "<div>\n",
       "<style scoped>\n",
       "    .dataframe tbody tr th:only-of-type {\n",
       "        vertical-align: middle;\n",
       "    }\n",
       "\n",
       "    .dataframe tbody tr th {\n",
       "        vertical-align: top;\n",
       "    }\n",
       "\n",
       "    .dataframe thead th {\n",
       "        text-align: right;\n",
       "    }\n",
       "</style>\n",
       "<table border=\"1\" class=\"dataframe\">\n",
       "  <thead>\n",
       "    <tr style=\"text-align: right;\">\n",
       "      <th></th>\n",
       "      <th>date</th>\n",
       "      <th>PM10</th>\n",
       "      <th>PM25</th>\n",
       "      <th>NO2</th>\n",
       "      <th>SO2</th>\n",
       "      <th>NO</th>\n",
       "      <th>NOX</th>\n",
       "      <th>O3</th>\n",
       "      <th>temp</th>\n",
       "      <th>wind_speed</th>\n",
       "      <th>hum</th>\n",
       "      <th>press</th>\n",
       "      <th>wind_dir_cat</th>\n",
       "      <th>weather_event_cat</th>\n",
       "      <th>atmo_cat</th>\n",
       "    </tr>\n",
       "  </thead>\n",
       "  <tbody>\n",
       "    <tr>\n",
       "      <th>0</th>\n",
       "      <td>2019-01-01 01:00:00</td>\n",
       "      <td>5.9</td>\n",
       "      <td>9.2</td>\n",
       "      <td>18.6</td>\n",
       "      <td>2.4</td>\n",
       "      <td>1.3</td>\n",
       "      <td>20.7</td>\n",
       "      <td>41.8</td>\n",
       "      <td>8.2</td>\n",
       "      <td>3.7</td>\n",
       "      <td>84.0</td>\n",
       "      <td>1036.0</td>\n",
       "      <td>9</td>\n",
       "      <td>1</td>\n",
       "      <td>1</td>\n",
       "    </tr>\n",
       "    <tr>\n",
       "      <th>1</th>\n",
       "      <td>2019-01-01 02:00:00</td>\n",
       "      <td>5.4</td>\n",
       "      <td>10.3</td>\n",
       "      <td>19.7</td>\n",
       "      <td>2.3</td>\n",
       "      <td>1.4</td>\n",
       "      <td>21.9</td>\n",
       "      <td>39.8</td>\n",
       "      <td>7.9</td>\n",
       "      <td>3.7</td>\n",
       "      <td>90.0</td>\n",
       "      <td>1036.2</td>\n",
       "      <td>8</td>\n",
       "      <td>1</td>\n",
       "      <td>2</td>\n",
       "    </tr>\n",
       "    <tr>\n",
       "      <th>2</th>\n",
       "      <td>2019-01-01 03:00:00</td>\n",
       "      <td>8.6</td>\n",
       "      <td>12.9</td>\n",
       "      <td>24.3</td>\n",
       "      <td>2.1</td>\n",
       "      <td>0.7</td>\n",
       "      <td>25.4</td>\n",
       "      <td>32.8</td>\n",
       "      <td>7.7</td>\n",
       "      <td>3.7</td>\n",
       "      <td>88.0</td>\n",
       "      <td>1035.8</td>\n",
       "      <td>2</td>\n",
       "      <td>1</td>\n",
       "      <td>2</td>\n",
       "    </tr>\n",
       "    <tr>\n",
       "      <th>3</th>\n",
       "      <td>2019-01-01 04:00:00</td>\n",
       "      <td>10.2</td>\n",
       "      <td>12.5</td>\n",
       "      <td>25.4</td>\n",
       "      <td>2.6</td>\n",
       "      <td>1.0</td>\n",
       "      <td>27.0</td>\n",
       "      <td>36.6</td>\n",
       "      <td>7.9</td>\n",
       "      <td>3.7</td>\n",
       "      <td>82.0</td>\n",
       "      <td>1035.4</td>\n",
       "      <td>9</td>\n",
       "      <td>1</td>\n",
       "      <td>2</td>\n",
       "    </tr>\n",
       "    <tr>\n",
       "      <th>4</th>\n",
       "      <td>2019-01-01 05:00:00</td>\n",
       "      <td>11.1</td>\n",
       "      <td>6.9</td>\n",
       "      <td>18.2</td>\n",
       "      <td>3.1</td>\n",
       "      <td>0.6</td>\n",
       "      <td>19.2</td>\n",
       "      <td>48.9</td>\n",
       "      <td>8.0</td>\n",
       "      <td>3.7</td>\n",
       "      <td>81.0</td>\n",
       "      <td>1034.8</td>\n",
       "      <td>2</td>\n",
       "      <td>1</td>\n",
       "      <td>1</td>\n",
       "    </tr>\n",
       "    <tr>\n",
       "      <th>...</th>\n",
       "      <td>...</td>\n",
       "      <td>...</td>\n",
       "      <td>...</td>\n",
       "      <td>...</td>\n",
       "      <td>...</td>\n",
       "      <td>...</td>\n",
       "      <td>...</td>\n",
       "      <td>...</td>\n",
       "      <td>...</td>\n",
       "      <td>...</td>\n",
       "      <td>...</td>\n",
       "      <td>...</td>\n",
       "      <td>...</td>\n",
       "      <td>...</td>\n",
       "      <td>...</td>\n",
       "    </tr>\n",
       "    <tr>\n",
       "      <th>26271</th>\n",
       "      <td>2021-12-30 17:00:00</td>\n",
       "      <td>11.4</td>\n",
       "      <td>8.1</td>\n",
       "      <td>23.9</td>\n",
       "      <td>0.9</td>\n",
       "      <td>1.5</td>\n",
       "      <td>26.2</td>\n",
       "      <td>25.2</td>\n",
       "      <td>13.9</td>\n",
       "      <td>14.8</td>\n",
       "      <td>87.0</td>\n",
       "      <td>1022.3</td>\n",
       "      <td>1</td>\n",
       "      <td>3</td>\n",
       "      <td>1</td>\n",
       "    </tr>\n",
       "    <tr>\n",
       "      <th>26272</th>\n",
       "      <td>2021-12-30 18:00:00</td>\n",
       "      <td>10.8</td>\n",
       "      <td>7.5</td>\n",
       "      <td>27.7</td>\n",
       "      <td>0.6</td>\n",
       "      <td>2.3</td>\n",
       "      <td>31.2</td>\n",
       "      <td>20.9</td>\n",
       "      <td>14.0</td>\n",
       "      <td>14.8</td>\n",
       "      <td>87.0</td>\n",
       "      <td>1022.7</td>\n",
       "      <td>3</td>\n",
       "      <td>3</td>\n",
       "      <td>1</td>\n",
       "    </tr>\n",
       "    <tr>\n",
       "      <th>26273</th>\n",
       "      <td>2021-12-30 19:00:00</td>\n",
       "      <td>11.9</td>\n",
       "      <td>8.4</td>\n",
       "      <td>25.8</td>\n",
       "      <td>0.6</td>\n",
       "      <td>1.1</td>\n",
       "      <td>27.6</td>\n",
       "      <td>21.2</td>\n",
       "      <td>13.4</td>\n",
       "      <td>13.0</td>\n",
       "      <td>88.0</td>\n",
       "      <td>1022.8</td>\n",
       "      <td>3</td>\n",
       "      <td>3</td>\n",
       "      <td>1</td>\n",
       "    </tr>\n",
       "    <tr>\n",
       "      <th>26274</th>\n",
       "      <td>2021-12-30 20:00:00</td>\n",
       "      <td>11.8</td>\n",
       "      <td>8.8</td>\n",
       "      <td>31.1</td>\n",
       "      <td>0.6</td>\n",
       "      <td>1.1</td>\n",
       "      <td>32.9</td>\n",
       "      <td>14.2</td>\n",
       "      <td>12.5</td>\n",
       "      <td>11.1</td>\n",
       "      <td>91.0</td>\n",
       "      <td>1022.9</td>\n",
       "      <td>3</td>\n",
       "      <td>3</td>\n",
       "      <td>1</td>\n",
       "    </tr>\n",
       "    <tr>\n",
       "      <th>26275</th>\n",
       "      <td>2021-12-30 21:00:00</td>\n",
       "      <td>14.1</td>\n",
       "      <td>10.5</td>\n",
       "      <td>35.9</td>\n",
       "      <td>0.8</td>\n",
       "      <td>5.8</td>\n",
       "      <td>44.8</td>\n",
       "      <td>6.2</td>\n",
       "      <td>11.9</td>\n",
       "      <td>11.1</td>\n",
       "      <td>93.0</td>\n",
       "      <td>1023.0</td>\n",
       "      <td>3</td>\n",
       "      <td>3</td>\n",
       "      <td>2</td>\n",
       "    </tr>\n",
       "  </tbody>\n",
       "</table>\n",
       "<p>25611 rows × 15 columns</p>\n",
       "</div>"
      ],
      "text/plain": [
       "                      date  PM10  PM25   NO2  SO2   NO   NOX    O3  temp  \\\n",
       "0      2019-01-01 01:00:00   5.9   9.2  18.6  2.4  1.3  20.7  41.8   8.2   \n",
       "1      2019-01-01 02:00:00   5.4  10.3  19.7  2.3  1.4  21.9  39.8   7.9   \n",
       "2      2019-01-01 03:00:00   8.6  12.9  24.3  2.1  0.7  25.4  32.8   7.7   \n",
       "3      2019-01-01 04:00:00  10.2  12.5  25.4  2.6  1.0  27.0  36.6   7.9   \n",
       "4      2019-01-01 05:00:00  11.1   6.9  18.2  3.1  0.6  19.2  48.9   8.0   \n",
       "...                    ...   ...   ...   ...  ...  ...   ...   ...   ...   \n",
       "26271  2021-12-30 17:00:00  11.4   8.1  23.9  0.9  1.5  26.2  25.2  13.9   \n",
       "26272  2021-12-30 18:00:00  10.8   7.5  27.7  0.6  2.3  31.2  20.9  14.0   \n",
       "26273  2021-12-30 19:00:00  11.9   8.4  25.8  0.6  1.1  27.6  21.2  13.4   \n",
       "26274  2021-12-30 20:00:00  11.8   8.8  31.1  0.6  1.1  32.9  14.2  12.5   \n",
       "26275  2021-12-30 21:00:00  14.1  10.5  35.9  0.8  5.8  44.8   6.2  11.9   \n",
       "\n",
       "       wind_speed   hum   press  wind_dir_cat  weather_event_cat  atmo_cat  \n",
       "0             3.7  84.0  1036.0             9                  1         1  \n",
       "1             3.7  90.0  1036.2             8                  1         2  \n",
       "2             3.7  88.0  1035.8             2                  1         2  \n",
       "3             3.7  82.0  1035.4             9                  1         2  \n",
       "4             3.7  81.0  1034.8             2                  1         1  \n",
       "...           ...   ...     ...           ...                ...       ...  \n",
       "26271        14.8  87.0  1022.3             1                  3         1  \n",
       "26272        14.8  87.0  1022.7             3                  3         1  \n",
       "26273        13.0  88.0  1022.8             3                  3         1  \n",
       "26274        11.1  91.0  1022.9             3                  3         1  \n",
       "26275        11.1  93.0  1023.0             3                  3         2  \n",
       "\n",
       "[25611 rows x 15 columns]"
      ]
     },
     "execution_count": 3,
     "metadata": {},
     "output_type": "execute_result"
    }
   ],
   "source": [
    "df = pd.read_csv(\"https://raw.githubusercontent.com/thibaultrichel/citeos-air-quality/main/data/final/merged-final.csv\", sep=';').dropna().drop(\"day\", axis=1)\n",
    "df[\"wind_dir_cat\"] = df.wind_dir.apply(lambda x: wind_dir_cat[x])\n",
    "df[\"weather_event_cat\"] = df.weather_event.apply(lambda x: weather_event_cat[x])\n",
    "df[\"atmo_cat\"] = df.ATMO.apply(lambda x: atmo_cat[x])\n",
    "df = df.drop([\"ATMO\", \"weather_event\", \"wind_dir\"], axis=1)\n",
    "df"
   ]
  },
  {
   "cell_type": "code",
   "execution_count": 4,
   "metadata": {
    "id": "nSPfjRn0mPFK"
   },
   "outputs": [],
   "source": [
    "def multivariate_data(dataset, target, start_index, end_index, history_size, target_size):\n",
    "    data, labels = [], []\n",
    "    start_index = start_index + history_size\n",
    "    if end_index is None:\n",
    "        end_index = len(dataset) - target_size\n",
    "    for i in range(start_index, end_index):\n",
    "        indices = list(range(i-history_size, i))\n",
    "        data.append(dataset[indices])\n",
    "        labels.append(target[i+target_size])\n",
    "    return np.array(data), np.array(labels)"
   ]
  },
  {
   "cell_type": "code",
   "execution_count": 5,
   "metadata": {
    "colab": {
     "base_uri": "https://localhost:8080/"
    },
    "id": "26C5VPyHl_Bf",
    "outputId": "653225e4-fda6-4653-c944-2780d56985af"
   },
   "outputs": [
    {
     "data": {
      "text/plain": [
       "array([[ 5.9,  9.2, 18.6, ...,  9. ,  1. ,  1. ],\n",
       "       [ 5.4, 10.3, 19.7, ...,  8. ,  1. ,  2. ],\n",
       "       [ 8.6, 12.9, 24.3, ...,  2. ,  1. ,  2. ],\n",
       "       ...,\n",
       "       [11.9,  8.4, 25.8, ...,  3. ,  3. ,  1. ],\n",
       "       [11.8,  8.8, 31.1, ...,  3. ,  3. ,  1. ],\n",
       "       [14.1, 10.5, 35.9, ...,  3. ,  3. ,  2. ]])"
      ]
     },
     "execution_count": 5,
     "metadata": {},
     "output_type": "execute_result"
    }
   ],
   "source": [
    "values = df.drop(\"date\", axis=1).values\n",
    "values"
   ]
  },
  {
   "cell_type": "code",
   "execution_count": 6,
   "metadata": {
    "colab": {
     "base_uri": "https://localhost:8080/"
    },
    "id": "7ShiQk5mmIP2",
    "outputId": "49dfa143-9210-4e37-c74f-c84eed39670d"
   },
   "outputs": [
    {
     "data": {
      "text/plain": [
       "((19088, 120, 14), (19088,))"
      ]
     },
     "execution_count": 6,
     "metadata": {},
     "output_type": "execute_result"
    }
   ],
   "source": [
    "n_past = 120\n",
    "n_future = 12\n",
    "train_size = int(values.shape[0] * 0.75)\n",
    "\n",
    "X_train, y_train = multivariate_data(\n",
    "    dataset=values,\n",
    "    target=values[:, 13],\n",
    "    start_index=0,\n",
    "    end_index=train_size,\n",
    "    history_size=n_past,\n",
    "    target_size=n_future\n",
    ")\n",
    "\n",
    "X_train.shape, y_train.shape"
   ]
  },
  {
   "cell_type": "code",
   "execution_count": 7,
   "metadata": {
    "colab": {
     "base_uri": "https://localhost:8080/"
    },
    "id": "_WbR0eNFokmP",
    "outputId": "2d765a44-1657-4f02-a253-c05d8923499c"
   },
   "outputs": [
    {
     "data": {
      "text/plain": [
       "(1, 120, 14)"
      ]
     },
     "execution_count": 7,
     "metadata": {},
     "output_type": "execute_result"
    }
   ],
   "source": [
    "X_val = np.array(values[train_size:train_size + n_past])\n",
    "X_val = np.expand_dims(X_val, axis=0)\n",
    "X_val.shape"
   ]
  },
  {
   "cell_type": "code",
   "execution_count": 8,
   "metadata": {
    "id": "a2RLdXoshr1k"
   },
   "outputs": [
    {
     "name": "stderr",
     "output_type": "stream",
     "text": [
      "2022-03-14 17:07:47.463409: I tensorflow/stream_executor/cuda/cuda_gpu_executor.cc:936] successful NUMA node read from SysFS had negative value (-1), but there must be at least one NUMA node, so returning NUMA node zero\n",
      "2022-03-14 17:07:47.464085: W tensorflow/stream_executor/platform/default/dso_loader.cc:64] Could not load dynamic library 'libcudart.so.11.0'; dlerror: libcudart.so.11.0: cannot open shared object file: No such file or directory\n",
      "2022-03-14 17:07:47.464142: W tensorflow/stream_executor/platform/default/dso_loader.cc:64] Could not load dynamic library 'libcublas.so.11'; dlerror: libcublas.so.11: cannot open shared object file: No such file or directory\n",
      "2022-03-14 17:07:47.464185: W tensorflow/stream_executor/platform/default/dso_loader.cc:64] Could not load dynamic library 'libcublasLt.so.11'; dlerror: libcublasLt.so.11: cannot open shared object file: No such file or directory\n",
      "2022-03-14 17:07:47.464228: W tensorflow/stream_executor/platform/default/dso_loader.cc:64] Could not load dynamic library 'libcufft.so.10'; dlerror: libcufft.so.10: cannot open shared object file: No such file or directory\n",
      "2022-03-14 17:07:47.464271: W tensorflow/stream_executor/platform/default/dso_loader.cc:64] Could not load dynamic library 'libcurand.so.10'; dlerror: libcurand.so.10: cannot open shared object file: No such file or directory\n",
      "2022-03-14 17:07:47.464304: W tensorflow/stream_executor/platform/default/dso_loader.cc:64] Could not load dynamic library 'libcusolver.so.11'; dlerror: libcusolver.so.11: cannot open shared object file: No such file or directory\n",
      "2022-03-14 17:07:47.464332: W tensorflow/stream_executor/platform/default/dso_loader.cc:64] Could not load dynamic library 'libcusparse.so.11'; dlerror: libcusparse.so.11: cannot open shared object file: No such file or directory\n",
      "2022-03-14 17:07:47.464360: W tensorflow/stream_executor/platform/default/dso_loader.cc:64] Could not load dynamic library 'libcudnn.so.8'; dlerror: libcudnn.so.8: cannot open shared object file: No such file or directory\n",
      "2022-03-14 17:07:47.464366: W tensorflow/core/common_runtime/gpu/gpu_device.cc:1850] Cannot dlopen some GPU libraries. Please make sure the missing libraries mentioned above are installed properly if you would like to use GPU. Follow the guide at https://www.tensorflow.org/install/gpu for how to download and setup the required libraries for your platform.\n",
      "Skipping registering GPU devices...\n",
      "2022-03-14 17:07:47.464706: I tensorflow/core/platform/cpu_feature_guard.cc:151] This TensorFlow binary is optimized with oneAPI Deep Neural Network Library (oneDNN) to use the following CPU instructions in performance-critical operations:  AVX2 FMA\n",
      "To enable them in other operations, rebuild TensorFlow with the appropriate compiler flags.\n"
     ]
    }
   ],
   "source": [
    "model = tf.keras.models.Sequential()\n",
    "model.add(tf.keras.layers.LSTM(128))\n",
    "model.add(tf.keras.layers.Dense(1))\n",
    "model.compile(optimizer=\"adam\", loss=\"mse\", metrics=[\"mse\"])"
   ]
  },
  {
   "cell_type": "code",
   "execution_count": null,
   "metadata": {
    "colab": {
     "base_uri": "https://localhost:8080/"
    },
    "id": "nkprMXxUicPr",
    "outputId": "f6df801b-e14c-4723-b268-7d8933254302"
   },
   "outputs": [
    {
     "name": "stdout",
     "output_type": "stream",
     "text": [
      "Epoch 1/50\n",
      "597/597 [==============================] - 29s 47ms/step - loss: 1.6713 - mse: 1.6713\n",
      "Epoch 2/50\n",
      "597/597 [==============================] - 28s 47ms/step - loss: 1.5251 - mse: 1.5251\n",
      "Epoch 3/50\n",
      "597/597 [==============================] - 28s 47ms/step - loss: 1.5389 - mse: 1.5389\n",
      "Epoch 4/50\n",
      "597/597 [==============================] - 28s 47ms/step - loss: 1.5374 - mse: 1.5374\n",
      "Epoch 5/50\n",
      "597/597 [==============================] - 28s 48ms/step - loss: 1.5423 - mse: 1.5423\n",
      "Epoch 6/50\n",
      "597/597 [==============================] - 29s 48ms/step - loss: 1.5421 - mse: 1.5421\n",
      "Epoch 7/50\n",
      "597/597 [==============================] - 29s 48ms/step - loss: 1.5420 - mse: 1.5420\n",
      "Epoch 8/50\n",
      "597/597 [==============================] - 30s 50ms/step - loss: 1.5421 - mse: 1.5421\n",
      "Epoch 9/50\n",
      "597/597 [==============================] - 33s 56ms/step - loss: 1.5415 - mse: 1.5415\n",
      "Epoch 10/50\n",
      "597/597 [==============================] - 35s 59ms/step - loss: 1.5415 - mse: 1.5415\n",
      "Epoch 11/50\n",
      "597/597 [==============================] - 31s 52ms/step - loss: 1.5415 - mse: 1.5415\n",
      "Epoch 12/50\n",
      "597/597 [==============================] - 30s 50ms/step - loss: 1.5415 - mse: 1.5415\n",
      "Epoch 13/50\n",
      "597/597 [==============================] - 29s 49ms/step - loss: 1.5415 - mse: 1.5415\n",
      "Epoch 14/50\n",
      "597/597 [==============================] - 29s 48ms/step - loss: 1.5415 - mse: 1.5415\n",
      "Epoch 15/50\n",
      "597/597 [==============================] - 29s 48ms/step - loss: 1.5416 - mse: 1.5416\n",
      "Epoch 16/50\n",
      "597/597 [==============================] - 29s 48ms/step - loss: 1.5419 - mse: 1.5419\n",
      "Epoch 17/50\n",
      "597/597 [==============================] - 29s 48ms/step - loss: 1.5419 - mse: 1.5419\n",
      "Epoch 18/50\n",
      "597/597 [==============================] - 29s 48ms/step - loss: 1.5418 - mse: 1.5418\n",
      "Epoch 19/50\n",
      "597/597 [==============================] - 29s 48ms/step - loss: 1.5418 - mse: 1.5418\n",
      "Epoch 20/50\n",
      "597/597 [==============================] - 29s 49ms/step - loss: 1.5418 - mse: 1.5418\n",
      "Epoch 21/50\n",
      "597/597 [==============================] - 29s 49ms/step - loss: 1.5418 - mse: 1.5418\n",
      "Epoch 22/50\n",
      "597/597 [==============================] - 30s 51ms/step - loss: 1.5418 - mse: 1.5418\n",
      "Epoch 23/50\n",
      "597/597 [==============================] - 30s 50ms/step - loss: 1.5418 - mse: 1.5418\n",
      "Epoch 24/50\n",
      "597/597 [==============================] - 29s 49ms/step - loss: 1.5418 - mse: 1.5418\n",
      "Epoch 25/50\n",
      "597/597 [==============================] - 30s 50ms/step - loss: 1.5420 - mse: 1.5420\n",
      "Epoch 26/50\n",
      "597/597 [==============================] - 30s 50ms/step - loss: 1.5418 - mse: 1.5418\n",
      "Epoch 27/50\n",
      "597/597 [==============================] - 29s 49ms/step - loss: 1.5418 - mse: 1.5418\n",
      "Epoch 28/50\n",
      "597/597 [==============================] - 29s 49ms/step - loss: 1.5418 - mse: 1.5418\n",
      "Epoch 29/50\n",
      "597/597 [==============================] - 29s 49ms/step - loss: 1.5418 - mse: 1.5418\n",
      "Epoch 30/50\n",
      "597/597 [==============================] - 29s 49ms/step - loss: 1.5418 - mse: 1.5418\n",
      "Epoch 31/50\n",
      "597/597 [==============================] - 29s 49ms/step - loss: 1.5418 - mse: 1.5418\n",
      "Epoch 32/50\n",
      "597/597 [==============================] - 29s 49ms/step - loss: 1.5376 - mse: 1.5376\n",
      "Epoch 33/50\n",
      "  3/597 [..............................] - ETA: 29s - loss: 1.5950 - mse: 1.5950"
     ]
    }
   ],
   "source": [
    "history = model.fit(\n",
    "    X_train,\n",
    "    y_train,\n",
    "    epochs=50,\n",
    "    verbose=1,\n",
    "    shuffle=False\n",
    ")"
   ]
  },
  {
   "cell_type": "code",
   "execution_count": 11,
   "metadata": {
    "id": "VU2yLBE1p6aV"
   },
   "outputs": [],
   "source": [
    "y_pred = model.predict(X_val)"
   ]
  },
  {
   "cell_type": "markdown",
   "metadata": {},
   "source": [
    "# Model saving"
   ]
  },
  {
   "cell_type": "code",
   "execution_count": null,
   "metadata": {},
   "outputs": [],
   "source": [
    "model.save(\"./models/LSTM_multi_with_target.h5\", include_optimizer=True, save_format=\"h5\")"
   ]
  }
 ],
 "metadata": {
  "accelerator": "GPU",
  "colab": {
   "name": "mutlivariate_with_target.ipynb",
   "provenance": []
  },
  "kernelspec": {
   "display_name": "Python 3 (ipykernel)",
   "language": "python",
   "name": "python3"
  },
  "language_info": {
   "codemirror_mode": {
    "name": "ipython",
    "version": 3
   },
   "file_extension": ".py",
   "mimetype": "text/x-python",
   "name": "python",
   "nbconvert_exporter": "python",
   "pygments_lexer": "ipython3",
   "version": "3.8.10"
  }
 },
 "nbformat": 4,
 "nbformat_minor": 4
}
