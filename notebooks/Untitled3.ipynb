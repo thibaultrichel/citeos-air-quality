{
  "cells": [
    {
      "cell_type": "code",
      "execution_count": null,
      "id": "9df9ff0f-1475-4def-83a8-6f5f5dfbb1a5",
      "metadata": {
        "id": "9df9ff0f-1475-4def-83a8-6f5f5dfbb1a5"
      },
      "outputs": [],
      "source": [
        "from IPython.core.interactiveshell import InteractiveShell\n",
        "InteractiveShell.ast_node_interactivity = \"all\""
      ]
    },
    {
      "cell_type": "code",
      "execution_count": null,
      "id": "7507c962-a577-4c2b-83e5-f272bfaffac5",
      "metadata": {
        "id": "7507c962-a577-4c2b-83e5-f272bfaffac5"
      },
      "outputs": [],
      "source": [
        "import numpy as np\n",
        "import pandas as pd\n",
        "import tensorflow as tf\n",
        "import matplotlib.pyplot as plt"
      ]
    },
    {
      "cell_type": "code",
      "execution_count": null,
      "id": "bd34a9fc-a604-4efb-b4a7-f48fc1ab1791",
      "metadata": {
        "id": "bd34a9fc-a604-4efb-b4a7-f48fc1ab1791"
      },
      "outputs": [],
      "source": [
        "weather_event_cat = {\n",
        "    'inconnu': 1, 'pluie faible': 2, 'ciel clair': 3, 'brouillard faible': 4, 'pluie': 5, 'brouillard': 6,\n",
        "    'neige faible': 7, 'pluie forte': 8, 'neige': 9, 'brouillard fort': 10\n",
        "}\n",
        "\n",
        "atmo_cat = {'bon': 1, 'moyen': 2, 'dégradé': 3, 'mauvais': 4, \"très mauvais\": 5, \"extrêmement mauvais\": 6}\n",
        "\n",
        "wind_dir_cat = {\n",
        "    'SO': 1, 'O': 2, 'SSO': 3, 'N': 4, 'S': 5, 'NE': 6, 'OSO': 7, 'NNO': 8, 'ONO': 9, 'ENE': 10, 'E': 11,\n",
        "    'NNE': 12, 'NO': 13, 'SSE': 14, 'SE': 15, 'ESE': 16\n",
        "}"
      ]
    },
    {
      "cell_type": "code",
      "execution_count": null,
      "id": "8c31f7a4-6b71-41a9-be3b-fb1c63f29cf7",
      "metadata": {
        "colab": {
          "base_uri": "https://localhost:8080/",
          "height": 423
        },
        "id": "8c31f7a4-6b71-41a9-be3b-fb1c63f29cf7",
        "outputId": "a4954965-c645-41cf-f58f-303f8246d9ff"
      },
      "outputs": [
        {
          "output_type": "execute_result",
          "data": {
            "text/plain": [
              "                      date  PM10  PM25   NO2  SO2   NO   NOX    O3  temp  \\\n",
              "0      2019-01-01 01:00:00   5.9   9.2  18.6  2.4  1.3  20.7  41.8   8.2   \n",
              "1      2019-01-01 02:00:00   5.4  10.3  19.7  2.3  1.4  21.9  39.8   7.9   \n",
              "2      2019-01-01 03:00:00   8.6  12.9  24.3  2.1  0.7  25.4  32.8   7.7   \n",
              "3      2019-01-01 04:00:00  10.2  12.5  25.4  2.6  1.0  27.0  36.6   7.9   \n",
              "4      2019-01-01 05:00:00  11.1   6.9  18.2  3.1  0.6  19.2  48.9   8.0   \n",
              "...                    ...   ...   ...   ...  ...  ...   ...   ...   ...   \n",
              "26271  2021-12-30 17:00:00  11.4   8.1  23.9  0.9  1.5  26.2  25.2  13.9   \n",
              "26272  2021-12-30 18:00:00  10.8   7.5  27.7  0.6  2.3  31.2  20.9  14.0   \n",
              "26273  2021-12-30 19:00:00  11.9   8.4  25.8  0.6  1.1  27.6  21.2  13.4   \n",
              "26274  2021-12-30 20:00:00  11.8   8.8  31.1  0.6  1.1  32.9  14.2  12.5   \n",
              "26275  2021-12-30 21:00:00  14.1  10.5  35.9  0.8  5.8  44.8   6.2  11.9   \n",
              "\n",
              "       wind_speed   hum   press  wind_dir_cat  weather_event_cat  atmo_cat  \n",
              "0             3.7  84.0  1036.0             9                  1         1  \n",
              "1             3.7  90.0  1036.2             8                  1         2  \n",
              "2             3.7  88.0  1035.8             2                  1         2  \n",
              "3             3.7  82.0  1035.4             9                  1         2  \n",
              "4             3.7  81.0  1034.8             2                  1         1  \n",
              "...           ...   ...     ...           ...                ...       ...  \n",
              "26271        14.8  87.0  1022.3             1                  3         1  \n",
              "26272        14.8  87.0  1022.7             3                  3         1  \n",
              "26273        13.0  88.0  1022.8             3                  3         1  \n",
              "26274        11.1  91.0  1022.9             3                  3         1  \n",
              "26275        11.1  93.0  1023.0             3                  3         2  \n",
              "\n",
              "[25611 rows x 15 columns]"
            ],
            "text/html": [
              "\n",
              "  <div id=\"df-f7cf0db4-368c-40ba-9f22-87efad847301\">\n",
              "    <div class=\"colab-df-container\">\n",
              "      <div>\n",
              "<style scoped>\n",
              "    .dataframe tbody tr th:only-of-type {\n",
              "        vertical-align: middle;\n",
              "    }\n",
              "\n",
              "    .dataframe tbody tr th {\n",
              "        vertical-align: top;\n",
              "    }\n",
              "\n",
              "    .dataframe thead th {\n",
              "        text-align: right;\n",
              "    }\n",
              "</style>\n",
              "<table border=\"1\" class=\"dataframe\">\n",
              "  <thead>\n",
              "    <tr style=\"text-align: right;\">\n",
              "      <th></th>\n",
              "      <th>date</th>\n",
              "      <th>PM10</th>\n",
              "      <th>PM25</th>\n",
              "      <th>NO2</th>\n",
              "      <th>SO2</th>\n",
              "      <th>NO</th>\n",
              "      <th>NOX</th>\n",
              "      <th>O3</th>\n",
              "      <th>temp</th>\n",
              "      <th>wind_speed</th>\n",
              "      <th>hum</th>\n",
              "      <th>press</th>\n",
              "      <th>wind_dir_cat</th>\n",
              "      <th>weather_event_cat</th>\n",
              "      <th>atmo_cat</th>\n",
              "    </tr>\n",
              "  </thead>\n",
              "  <tbody>\n",
              "    <tr>\n",
              "      <th>0</th>\n",
              "      <td>2019-01-01 01:00:00</td>\n",
              "      <td>5.9</td>\n",
              "      <td>9.2</td>\n",
              "      <td>18.6</td>\n",
              "      <td>2.4</td>\n",
              "      <td>1.3</td>\n",
              "      <td>20.7</td>\n",
              "      <td>41.8</td>\n",
              "      <td>8.2</td>\n",
              "      <td>3.7</td>\n",
              "      <td>84.0</td>\n",
              "      <td>1036.0</td>\n",
              "      <td>9</td>\n",
              "      <td>1</td>\n",
              "      <td>1</td>\n",
              "    </tr>\n",
              "    <tr>\n",
              "      <th>1</th>\n",
              "      <td>2019-01-01 02:00:00</td>\n",
              "      <td>5.4</td>\n",
              "      <td>10.3</td>\n",
              "      <td>19.7</td>\n",
              "      <td>2.3</td>\n",
              "      <td>1.4</td>\n",
              "      <td>21.9</td>\n",
              "      <td>39.8</td>\n",
              "      <td>7.9</td>\n",
              "      <td>3.7</td>\n",
              "      <td>90.0</td>\n",
              "      <td>1036.2</td>\n",
              "      <td>8</td>\n",
              "      <td>1</td>\n",
              "      <td>2</td>\n",
              "    </tr>\n",
              "    <tr>\n",
              "      <th>2</th>\n",
              "      <td>2019-01-01 03:00:00</td>\n",
              "      <td>8.6</td>\n",
              "      <td>12.9</td>\n",
              "      <td>24.3</td>\n",
              "      <td>2.1</td>\n",
              "      <td>0.7</td>\n",
              "      <td>25.4</td>\n",
              "      <td>32.8</td>\n",
              "      <td>7.7</td>\n",
              "      <td>3.7</td>\n",
              "      <td>88.0</td>\n",
              "      <td>1035.8</td>\n",
              "      <td>2</td>\n",
              "      <td>1</td>\n",
              "      <td>2</td>\n",
              "    </tr>\n",
              "    <tr>\n",
              "      <th>3</th>\n",
              "      <td>2019-01-01 04:00:00</td>\n",
              "      <td>10.2</td>\n",
              "      <td>12.5</td>\n",
              "      <td>25.4</td>\n",
              "      <td>2.6</td>\n",
              "      <td>1.0</td>\n",
              "      <td>27.0</td>\n",
              "      <td>36.6</td>\n",
              "      <td>7.9</td>\n",
              "      <td>3.7</td>\n",
              "      <td>82.0</td>\n",
              "      <td>1035.4</td>\n",
              "      <td>9</td>\n",
              "      <td>1</td>\n",
              "      <td>2</td>\n",
              "    </tr>\n",
              "    <tr>\n",
              "      <th>4</th>\n",
              "      <td>2019-01-01 05:00:00</td>\n",
              "      <td>11.1</td>\n",
              "      <td>6.9</td>\n",
              "      <td>18.2</td>\n",
              "      <td>3.1</td>\n",
              "      <td>0.6</td>\n",
              "      <td>19.2</td>\n",
              "      <td>48.9</td>\n",
              "      <td>8.0</td>\n",
              "      <td>3.7</td>\n",
              "      <td>81.0</td>\n",
              "      <td>1034.8</td>\n",
              "      <td>2</td>\n",
              "      <td>1</td>\n",
              "      <td>1</td>\n",
              "    </tr>\n",
              "    <tr>\n",
              "      <th>...</th>\n",
              "      <td>...</td>\n",
              "      <td>...</td>\n",
              "      <td>...</td>\n",
              "      <td>...</td>\n",
              "      <td>...</td>\n",
              "      <td>...</td>\n",
              "      <td>...</td>\n",
              "      <td>...</td>\n",
              "      <td>...</td>\n",
              "      <td>...</td>\n",
              "      <td>...</td>\n",
              "      <td>...</td>\n",
              "      <td>...</td>\n",
              "      <td>...</td>\n",
              "      <td>...</td>\n",
              "    </tr>\n",
              "    <tr>\n",
              "      <th>26271</th>\n",
              "      <td>2021-12-30 17:00:00</td>\n",
              "      <td>11.4</td>\n",
              "      <td>8.1</td>\n",
              "      <td>23.9</td>\n",
              "      <td>0.9</td>\n",
              "      <td>1.5</td>\n",
              "      <td>26.2</td>\n",
              "      <td>25.2</td>\n",
              "      <td>13.9</td>\n",
              "      <td>14.8</td>\n",
              "      <td>87.0</td>\n",
              "      <td>1022.3</td>\n",
              "      <td>1</td>\n",
              "      <td>3</td>\n",
              "      <td>1</td>\n",
              "    </tr>\n",
              "    <tr>\n",
              "      <th>26272</th>\n",
              "      <td>2021-12-30 18:00:00</td>\n",
              "      <td>10.8</td>\n",
              "      <td>7.5</td>\n",
              "      <td>27.7</td>\n",
              "      <td>0.6</td>\n",
              "      <td>2.3</td>\n",
              "      <td>31.2</td>\n",
              "      <td>20.9</td>\n",
              "      <td>14.0</td>\n",
              "      <td>14.8</td>\n",
              "      <td>87.0</td>\n",
              "      <td>1022.7</td>\n",
              "      <td>3</td>\n",
              "      <td>3</td>\n",
              "      <td>1</td>\n",
              "    </tr>\n",
              "    <tr>\n",
              "      <th>26273</th>\n",
              "      <td>2021-12-30 19:00:00</td>\n",
              "      <td>11.9</td>\n",
              "      <td>8.4</td>\n",
              "      <td>25.8</td>\n",
              "      <td>0.6</td>\n",
              "      <td>1.1</td>\n",
              "      <td>27.6</td>\n",
              "      <td>21.2</td>\n",
              "      <td>13.4</td>\n",
              "      <td>13.0</td>\n",
              "      <td>88.0</td>\n",
              "      <td>1022.8</td>\n",
              "      <td>3</td>\n",
              "      <td>3</td>\n",
              "      <td>1</td>\n",
              "    </tr>\n",
              "    <tr>\n",
              "      <th>26274</th>\n",
              "      <td>2021-12-30 20:00:00</td>\n",
              "      <td>11.8</td>\n",
              "      <td>8.8</td>\n",
              "      <td>31.1</td>\n",
              "      <td>0.6</td>\n",
              "      <td>1.1</td>\n",
              "      <td>32.9</td>\n",
              "      <td>14.2</td>\n",
              "      <td>12.5</td>\n",
              "      <td>11.1</td>\n",
              "      <td>91.0</td>\n",
              "      <td>1022.9</td>\n",
              "      <td>3</td>\n",
              "      <td>3</td>\n",
              "      <td>1</td>\n",
              "    </tr>\n",
              "    <tr>\n",
              "      <th>26275</th>\n",
              "      <td>2021-12-30 21:00:00</td>\n",
              "      <td>14.1</td>\n",
              "      <td>10.5</td>\n",
              "      <td>35.9</td>\n",
              "      <td>0.8</td>\n",
              "      <td>5.8</td>\n",
              "      <td>44.8</td>\n",
              "      <td>6.2</td>\n",
              "      <td>11.9</td>\n",
              "      <td>11.1</td>\n",
              "      <td>93.0</td>\n",
              "      <td>1023.0</td>\n",
              "      <td>3</td>\n",
              "      <td>3</td>\n",
              "      <td>2</td>\n",
              "    </tr>\n",
              "  </tbody>\n",
              "</table>\n",
              "<p>25611 rows × 15 columns</p>\n",
              "</div>\n",
              "      <button class=\"colab-df-convert\" onclick=\"convertToInteractive('df-f7cf0db4-368c-40ba-9f22-87efad847301')\"\n",
              "              title=\"Convert this dataframe to an interactive table.\"\n",
              "              style=\"display:none;\">\n",
              "        \n",
              "  <svg xmlns=\"http://www.w3.org/2000/svg\" height=\"24px\"viewBox=\"0 0 24 24\"\n",
              "       width=\"24px\">\n",
              "    <path d=\"M0 0h24v24H0V0z\" fill=\"none\"/>\n",
              "    <path d=\"M18.56 5.44l.94 2.06.94-2.06 2.06-.94-2.06-.94-.94-2.06-.94 2.06-2.06.94zm-11 1L8.5 8.5l.94-2.06 2.06-.94-2.06-.94L8.5 2.5l-.94 2.06-2.06.94zm10 10l.94 2.06.94-2.06 2.06-.94-2.06-.94-.94-2.06-.94 2.06-2.06.94z\"/><path d=\"M17.41 7.96l-1.37-1.37c-.4-.4-.92-.59-1.43-.59-.52 0-1.04.2-1.43.59L10.3 9.45l-7.72 7.72c-.78.78-.78 2.05 0 2.83L4 21.41c.39.39.9.59 1.41.59.51 0 1.02-.2 1.41-.59l7.78-7.78 2.81-2.81c.8-.78.8-2.07 0-2.86zM5.41 20L4 18.59l7.72-7.72 1.47 1.35L5.41 20z\"/>\n",
              "  </svg>\n",
              "      </button>\n",
              "      \n",
              "  <style>\n",
              "    .colab-df-container {\n",
              "      display:flex;\n",
              "      flex-wrap:wrap;\n",
              "      gap: 12px;\n",
              "    }\n",
              "\n",
              "    .colab-df-convert {\n",
              "      background-color: #E8F0FE;\n",
              "      border: none;\n",
              "      border-radius: 50%;\n",
              "      cursor: pointer;\n",
              "      display: none;\n",
              "      fill: #1967D2;\n",
              "      height: 32px;\n",
              "      padding: 0 0 0 0;\n",
              "      width: 32px;\n",
              "    }\n",
              "\n",
              "    .colab-df-convert:hover {\n",
              "      background-color: #E2EBFA;\n",
              "      box-shadow: 0px 1px 2px rgba(60, 64, 67, 0.3), 0px 1px 3px 1px rgba(60, 64, 67, 0.15);\n",
              "      fill: #174EA6;\n",
              "    }\n",
              "\n",
              "    [theme=dark] .colab-df-convert {\n",
              "      background-color: #3B4455;\n",
              "      fill: #D2E3FC;\n",
              "    }\n",
              "\n",
              "    [theme=dark] .colab-df-convert:hover {\n",
              "      background-color: #434B5C;\n",
              "      box-shadow: 0px 1px 3px 1px rgba(0, 0, 0, 0.15);\n",
              "      filter: drop-shadow(0px 1px 2px rgba(0, 0, 0, 0.3));\n",
              "      fill: #FFFFFF;\n",
              "    }\n",
              "  </style>\n",
              "\n",
              "      <script>\n",
              "        const buttonEl =\n",
              "          document.querySelector('#df-f7cf0db4-368c-40ba-9f22-87efad847301 button.colab-df-convert');\n",
              "        buttonEl.style.display =\n",
              "          google.colab.kernel.accessAllowed ? 'block' : 'none';\n",
              "\n",
              "        async function convertToInteractive(key) {\n",
              "          const element = document.querySelector('#df-f7cf0db4-368c-40ba-9f22-87efad847301');\n",
              "          const dataTable =\n",
              "            await google.colab.kernel.invokeFunction('convertToInteractive',\n",
              "                                                     [key], {});\n",
              "          if (!dataTable) return;\n",
              "\n",
              "          const docLinkHtml = 'Like what you see? Visit the ' +\n",
              "            '<a target=\"_blank\" href=https://colab.research.google.com/notebooks/data_table.ipynb>data table notebook</a>'\n",
              "            + ' to learn more about interactive tables.';\n",
              "          element.innerHTML = '';\n",
              "          dataTable['output_type'] = 'display_data';\n",
              "          await google.colab.output.renderOutput(dataTable, element);\n",
              "          const docLink = document.createElement('div');\n",
              "          docLink.innerHTML = docLinkHtml;\n",
              "          element.appendChild(docLink);\n",
              "        }\n",
              "      </script>\n",
              "    </div>\n",
              "  </div>\n",
              "  "
            ]
          },
          "metadata": {},
          "execution_count": 5
        }
      ],
      "source": [
        "df = pd.read_csv(\"https://raw.githubusercontent.com/thibaultrichel/citeos-air-quality/main/data/final/merged-final.csv\", sep=';').dropna().drop(\"day\", axis=1)\n",
        "df[\"wind_dir_cat\"] = df.wind_dir.apply(lambda x: wind_dir_cat[x])\n",
        "df[\"weather_event_cat\"] = df.weather_event.apply(lambda x: weather_event_cat[x])\n",
        "df[\"atmo_cat\"] = df.ATMO.apply(lambda x: atmo_cat[x])\n",
        "df = df.drop([\"ATMO\", \"weather_event\", \"wind_dir\"], axis=1)\n",
        "df"
      ]
    },
    {
      "cell_type": "code",
      "execution_count": null,
      "id": "a32528d0-89d9-42f2-86df-88731dd7ab8c",
      "metadata": {
        "id": "a32528d0-89d9-42f2-86df-88731dd7ab8c"
      },
      "outputs": [],
      "source": [
        "def multivariate_data(dataset, target, start_index, end_index, history_size, target_size):\n",
        "    data, labels = [], []\n",
        "    start_index = start_index + history_size\n",
        "    if end_index is None:\n",
        "        end_index = len(dataset) - target_size\n",
        "    for i in range(start_index, end_index):\n",
        "        indices = list(range(i-history_size, i))\n",
        "        data.append(dataset[indices])\n",
        "        labels.append(target[i+target_size])\n",
        "    return np.array(data), np.array(labels)"
      ]
    },
    {
      "cell_type": "code",
      "execution_count": null,
      "id": "aea492fc-fa63-4580-85ae-8fc1e8278522",
      "metadata": {
        "colab": {
          "base_uri": "https://localhost:8080/"
        },
        "id": "aea492fc-fa63-4580-85ae-8fc1e8278522",
        "outputId": "ad6c1a07-5aa4-4135-e358-02cabdd31718"
      },
      "outputs": [
        {
          "output_type": "stream",
          "name": "stdout",
          "text": [
            "[[ 5.9  9.2 18.6 ...  9.   1.   1. ]\n",
            " [ 5.4 10.3 19.7 ...  8.   1.   2. ]\n",
            " [ 8.6 12.9 24.3 ...  2.   1.   2. ]\n",
            " ...\n",
            " [11.9  8.4 25.8 ...  3.   3.   1. ]\n",
            " [11.8  8.8 31.1 ...  3.   3.   1. ]\n",
            " [14.1 10.5 35.9 ...  3.   3.   2. ]]\n",
            "(25611, 14)\n"
          ]
        }
      ],
      "source": [
        "X = df.drop(\"date\", axis=1).values\n",
        "print(f\"{X}\\n{X.shape}\")"
      ]
    },
    {
      "cell_type": "code",
      "execution_count": null,
      "id": "06402626-be31-4b27-9f43-daeb6a5c88c8",
      "metadata": {
        "colab": {
          "base_uri": "https://localhost:8080/"
        },
        "id": "06402626-be31-4b27-9f43-daeb6a5c88c8",
        "outputId": "92287bb8-24d2-44f6-a548-9c26e4e5d97b"
      },
      "outputs": [
        {
          "output_type": "execute_result",
          "data": {
            "text/plain": [
              "array([[1, 0, 0, 0, 0, 0],\n",
              "       [0, 1, 0, 0, 0, 0],\n",
              "       [0, 1, 0, 0, 0, 0],\n",
              "       ...,\n",
              "       [1, 0, 0, 0, 0, 0],\n",
              "       [1, 0, 0, 0, 0, 0],\n",
              "       [0, 1, 0, 0, 0, 0]], dtype=uint8)"
            ]
          },
          "metadata": {},
          "execution_count": 14
        }
      ],
      "source": [
        "targets = pd.get_dummies(X[:, 13]).values\n",
        "targets"
      ]
    },
    {
      "cell_type": "code",
      "execution_count": null,
      "id": "b6106eb5-af59-4e12-b0bd-063629ecc228",
      "metadata": {
        "colab": {
          "base_uri": "https://localhost:8080/"
        },
        "id": "b6106eb5-af59-4e12-b0bd-063629ecc228",
        "outputId": "fceca7f9-ded9-4c57-d1d4-096e8d6d0d07"
      },
      "outputs": [
        {
          "output_type": "execute_result",
          "data": {
            "text/plain": [
              "((19088, 120, 14), (19088, 6))"
            ]
          },
          "metadata": {},
          "execution_count": 15
        }
      ],
      "source": [
        "n_past = 120\n",
        "n_future = 12\n",
        "train_size = int(X.shape[0] * 0.75)\n",
        "\n",
        "X_train, y_train = multivariate_data(\n",
        "    dataset=X,\n",
        "    target=targets,\n",
        "    start_index=0,\n",
        "    end_index=train_size,\n",
        "    history_size=n_past,\n",
        "    target_size=n_future\n",
        ")\n",
        "\n",
        "X_train.shape, y_train.shape"
      ]
    },
    {
      "cell_type": "code",
      "source": [
        "X_test, y_test = multivariate_data(\n",
        "    dataset=X,\n",
        "    target=targets,\n",
        "    start_index=train_size,\n",
        "    end_index=len(X)-n_future,\n",
        "    history_size=n_past,\n",
        "    target_size=n_future\n",
        ")\n",
        "\n",
        "X_test.shape, y_test.shape"
      ],
      "metadata": {
        "colab": {
          "base_uri": "https://localhost:8080/"
        },
        "id": "MgZtiuO5I1kX",
        "outputId": "42186571-f3ff-4ad0-db60-b9a25e61fc86"
      },
      "id": "MgZtiuO5I1kX",
      "execution_count": null,
      "outputs": [
        {
          "output_type": "execute_result",
          "data": {
            "text/plain": [
              "((6271, 120, 14), (6271, 6))"
            ]
          },
          "metadata": {},
          "execution_count": 20
        }
      ]
    },
    {
      "cell_type": "code",
      "execution_count": null,
      "id": "f83ee6f1-9b60-4325-a724-175e99eaeead",
      "metadata": {
        "id": "f83ee6f1-9b60-4325-a724-175e99eaeead"
      },
      "outputs": [],
      "source": [
        "model = tf.keras.models.Sequential()\n",
        "model.add(tf.keras.layers.LSTM(128))\n",
        "model.add(tf.keras.layers.Dense(6))\n",
        "model.compile(optimizer=\"adam\", loss=\"mae\", metrics=[\"mae\"])"
      ]
    },
    {
      "cell_type": "code",
      "execution_count": null,
      "id": "d9f63469-36ff-448e-96fb-9ae641a34f2d",
      "metadata": {
        "colab": {
          "base_uri": "https://localhost:8080/"
        },
        "id": "d9f63469-36ff-448e-96fb-9ae641a34f2d",
        "outputId": "62f36ab3-5ca9-4c04-c467-8babceed03b3"
      },
      "outputs": [
        {
          "output_type": "stream",
          "name": "stdout",
          "text": [
            "Epoch 1/20\n",
            "597/597 [==============================] - 20s 30ms/step - loss: 0.1598 - mae: 0.1598\n",
            "Epoch 2/20\n",
            "597/597 [==============================] - 18s 30ms/step - loss: 0.1492 - mae: 0.1492\n",
            "Epoch 3/20\n",
            "597/597 [==============================] - 18s 30ms/step - loss: 0.1476 - mae: 0.1476\n",
            "Epoch 4/20\n",
            "597/597 [==============================] - 18s 30ms/step - loss: 0.1470 - mae: 0.1470\n",
            "Epoch 5/20\n",
            "597/597 [==============================] - 18s 30ms/step - loss: 0.1474 - mae: 0.1474\n",
            "Epoch 6/20\n",
            "597/597 [==============================] - 17s 29ms/step - loss: 0.1466 - mae: 0.1466\n",
            "Epoch 7/20\n",
            "597/597 [==============================] - 17s 29ms/step - loss: 0.1455 - mae: 0.1455\n",
            "Epoch 8/20\n",
            "597/597 [==============================] - 21s 36ms/step - loss: 0.1454 - mae: 0.1454\n",
            "Epoch 9/20\n",
            "597/597 [==============================] - 18s 30ms/step - loss: 0.1459 - mae: 0.1459\n",
            "Epoch 10/20\n",
            "597/597 [==============================] - 17s 29ms/step - loss: 0.1457 - mae: 0.1457\n",
            "Epoch 11/20\n",
            "597/597 [==============================] - 21s 35ms/step - loss: 0.1461 - mae: 0.1461\n",
            "Epoch 12/20\n",
            "597/597 [==============================] - 17s 29ms/step - loss: 0.1447 - mae: 0.1447\n",
            "Epoch 13/20\n",
            "597/597 [==============================] - 17s 29ms/step - loss: 0.1444 - mae: 0.1444\n",
            "Epoch 14/20\n",
            "597/597 [==============================] - 17s 29ms/step - loss: 0.1440 - mae: 0.1440\n",
            "Epoch 15/20\n",
            "597/597 [==============================] - 17s 29ms/step - loss: 0.1438 - mae: 0.1438\n",
            "Epoch 16/20\n",
            "597/597 [==============================] - 17s 29ms/step - loss: 0.1436 - mae: 0.1436\n",
            "Epoch 17/20\n",
            "597/597 [==============================] - 18s 30ms/step - loss: 0.1439 - mae: 0.1439\n",
            "Epoch 18/20\n",
            "597/597 [==============================] - 17s 29ms/step - loss: 0.1437 - mae: 0.1437\n",
            "Epoch 19/20\n",
            "597/597 [==============================] - 17s 29ms/step - loss: 0.1439 - mae: 0.1439\n",
            "Epoch 20/20\n",
            "597/597 [==============================] - 17s 29ms/step - loss: 0.1434 - mae: 0.1434\n"
          ]
        }
      ],
      "source": [
        "history = model.fit(\n",
        "    X_train,\n",
        "    y_train,\n",
        "    epochs=20,\n",
        "    verbose=1,\n",
        "    shuffle=False\n",
        ")"
      ]
    },
    {
      "cell_type": "code",
      "source": [
        "from sklearn.metrics import accuracy_score, f1_score, mean_absolute_error, mean_absolute_percentage_error"
      ],
      "metadata": {
        "id": "EJ7iekBFEOzp"
      },
      "id": "EJ7iekBFEOzp",
      "execution_count": null,
      "outputs": []
    },
    {
      "cell_type": "code",
      "source": [
        "y_pred = model.predict(X_test)\n",
        "y_pred = pd.DataFrame(abs(np.round(y_pred))).idxmax(axis=1)\n",
        "y_pred.value_counts()"
      ],
      "metadata": {
        "colab": {
          "base_uri": "https://localhost:8080/"
        },
        "id": "0zkuIrF0H5cl",
        "outputId": "de838325-fe97-4811-ee8f-538c06b3f5fa"
      },
      "id": "0zkuIrF0H5cl",
      "execution_count": null,
      "outputs": [
        {
          "output_type": "execute_result",
          "data": {
            "text/plain": [
              "1    5726\n",
              "0     545\n",
              "dtype: int64"
            ]
          },
          "metadata": {},
          "execution_count": 29
        }
      ]
    },
    {
      "cell_type": "code",
      "source": [
        "y_test[0]\n",
        "y_pred[0]"
      ],
      "metadata": {
        "colab": {
          "base_uri": "https://localhost:8080/"
        },
        "id": "YVuScTE5HC_6",
        "outputId": "c242fd23-1580-479c-b445-0f0896472654"
      },
      "id": "YVuScTE5HC_6",
      "execution_count": null,
      "outputs": [
        {
          "output_type": "execute_result",
          "data": {
            "text/plain": [
              "array([0, 1, 0, 0, 0, 0], dtype=uint8)"
            ]
          },
          "metadata": {},
          "execution_count": 30
        },
        {
          "output_type": "execute_result",
          "data": {
            "text/plain": [
              "1"
            ]
          },
          "metadata": {},
          "execution_count": 30
        }
      ]
    },
    {
      "cell_type": "code",
      "source": [
        "acc = accuracy_score(y_test, y_pred_ok)\n",
        "f1 = f1_score(y_test, y_pred_ok)\n",
        "mae = mean_absolute_error(y_test, y_pred_ok)\n",
        "mape = mean_absolute_percentage_error(y_test, y_pred_ok)\n",
        "\n",
        "print(f\"acc = {acc}\\nf1 = {f1}\\nmae = {mae}\\nmape = {mape}\")"
      ],
      "metadata": {
        "id": "0yXFLKdWGlFe"
      },
      "id": "0yXFLKdWGlFe",
      "execution_count": null,
      "outputs": []
    },
    {
      "cell_type": "code",
      "source": [
        ""
      ],
      "metadata": {
        "id": "Um_heeBAG9uC"
      },
      "id": "Um_heeBAG9uC",
      "execution_count": null,
      "outputs": []
    }
  ],
  "metadata": {
    "kernelspec": {
      "display_name": "jptlab_env",
      "language": "python",
      "name": "jptlab_env"
    },
    "language_info": {
      "codemirror_mode": {
        "name": "ipython",
        "version": 3
      },
      "file_extension": ".py",
      "mimetype": "text/x-python",
      "name": "python",
      "nbconvert_exporter": "python",
      "pygments_lexer": "ipython3",
      "version": "3.8.5"
    },
    "colab": {
      "name": "Untitled3.ipynb",
      "provenance": [],
      "collapsed_sections": []
    },
    "accelerator": "GPU"
  },
  "nbformat": 4,
  "nbformat_minor": 5
}